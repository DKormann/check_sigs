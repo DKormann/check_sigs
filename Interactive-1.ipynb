{
 "cells": [
  {
   "cell_type": "code",
   "execution_count": 8,
   "metadata": {},
   "outputs": [
    {
     "data": {
      "text/plain": [
       "tensor([])"
      ]
     },
     "execution_count": 8,
     "metadata": {},
     "output_type": "execute_result"
    }
   ],
   "source": [
    "torch.Tensor()"
   ]
  },
  {
   "cell_type": "code",
   "execution_count": 9,
   "metadata": {},
   "outputs": [
    {
     "data": {
      "text/plain": [
       "tensor([1., 2., 3.])"
      ]
     },
     "execution_count": 9,
     "metadata": {},
     "output_type": "execute_result"
    }
   ],
   "source": [
    "torch.Tensor([1,2,3])"
   ]
  },
  {
   "cell_type": "code",
   "execution_count": 10,
   "metadata": {},
   "outputs": [
    {
     "data": {
      "text/plain": [
       "<function Tensor.bool>"
      ]
     },
     "execution_count": 10,
     "metadata": {},
     "output_type": "execute_result"
    }
   ],
   "source": [
    "torch.Tensor([1,2,3]).bool"
   ]
  },
  {
   "cell_type": "code",
   "execution_count": 11,
   "metadata": {},
   "outputs": [
    {
     "data": {
      "text/plain": [
       "tensor([True, True, True])"
      ]
     },
     "execution_count": 11,
     "metadata": {},
     "output_type": "execute_result"
    }
   ],
   "source": [
    "torch.Tensor([1,2,3]).bool()"
   ]
  },
  {
   "cell_type": "code",
   "execution_count": 12,
   "id": "8101ce6f-ebd3-4173-b8a8-65866d8e2ca5",
   "metadata": {},
   "outputs": [
    {
     "ename": "RuntimeError",
     "evalue": "Expected all tensors to be on the same device, but found at least two devices, cuda:0 and cpu!",
     "output_type": "error",
     "traceback": [
      "\u001b[0;31m---------------------------------------------------------------------------\u001b[0m",
      "\u001b[0;31mRuntimeError\u001b[0m                              Traceback (most recent call last)",
      "Cell \u001b[0;32mIn[12], line 13\u001b[0m\n\u001b[1;32m     10\u001b[0m   y \u001b[39m=\u001b[39m torch\u001b[39m.\u001b[39mwhere(torch\u001b[39m.\u001b[39mTensor(labels)\u001b[39m.\u001b[39mbool(), train_org[idxs, yn], train_forg[idxs, yn])\n\u001b[1;32m     11\u001b[0m   \u001b[39mreturn\u001b[39;00m torch\u001b[39m.\u001b[39mTensor(x), torch\u001b[39m.\u001b[39mTensor(y), torch\u001b[39m.\u001b[39mTensor(labels\u001b[39m.\u001b[39mflatten(), device\u001b[39m=\u001b[39m\u001b[39m'\u001b[39m\u001b[39mcuda\u001b[39m\u001b[39m'\u001b[39m)\n\u001b[0;32m---> 13\u001b[0m x,y,labels \u001b[39m=\u001b[39m getsample(\u001b[39m10\u001b[39;49m)\n\u001b[1;32m     16\u001b[0m x\u001b[39m.\u001b[39mshape \u001b[39m# torch.Size([10, 200, 300])\u001b[39;00m\n",
      "Cell \u001b[0;32mIn[12], line 10\u001b[0m, in \u001b[0;36mgetsample\u001b[0;34m(n)\u001b[0m\n\u001b[1;32m      7\u001b[0m yn \u001b[39m=\u001b[39m np\u001b[39m.\u001b[39mrandom\u001b[39m.\u001b[39mrandint(\u001b[39m24\u001b[39m, size\u001b[39m=\u001b[39mn)\n\u001b[1;32m      8\u001b[0m \u001b[39m# y = np.where(labels, train_org[idxs, yn], train_forg[idxs, yn])\u001b[39;00m\n\u001b[0;32m---> 10\u001b[0m y \u001b[39m=\u001b[39m torch\u001b[39m.\u001b[39;49mwhere(torch\u001b[39m.\u001b[39;49mTensor(labels)\u001b[39m.\u001b[39;49mbool(), train_org[idxs, yn], train_forg[idxs, yn])\n\u001b[1;32m     11\u001b[0m \u001b[39mreturn\u001b[39;00m torch\u001b[39m.\u001b[39mTensor(x), torch\u001b[39m.\u001b[39mTensor(y), torch\u001b[39m.\u001b[39mTensor(labels\u001b[39m.\u001b[39mflatten(), device\u001b[39m=\u001b[39m\u001b[39m'\u001b[39m\u001b[39mcuda\u001b[39m\u001b[39m'\u001b[39m)\n",
      "\u001b[0;31mRuntimeError\u001b[0m: Expected all tensors to be on the same device, but found at least two devices, cuda:0 and cpu!"
     ]
    }
   ],
   "source": [
    "def getsample(n=50):\n",
    "  labels = np.random.randint( 2, size=(n,1,1))\n",
    "  idxs = np.random.randint(50, size=n)\n",
    "  xn = np.random.randint(24, size=n)\n",
    "  x = train_org[idxs, xn]\n",
    "  yn = np.random.randint(24, size=n)\n",
    "  # y = np.where(labels, train_org[idxs, yn], train_forg[idxs, yn])\n",
    "\n",
    "  y = torch.where(torch.Tensor(labels).bool(), train_org[idxs, yn], train_forg[idxs, yn])\n",
    "  return torch.Tensor(x), torch.Tensor(y), torch.Tensor(labels.flatten(), device='cuda')\n",
    "\n",
    "x,y,labels = getsample(10)\n",
    "\n",
    "\n",
    "x.shape # torch.Size([10, 200, 300])"
   ]
  },
  {
   "cell_type": "code",
   "execution_count": 13,
   "metadata": {},
   "outputs": [
    {
     "ename": "TypeError",
     "evalue": "descriptor 'to' for 'torch._C.TensorBase' objects doesn't apply to a 'str' object",
     "output_type": "error",
     "traceback": [
      "\u001b[0;31m---------------------------------------------------------------------------\u001b[0m",
      "\u001b[0;31mTypeError\u001b[0m                                 Traceback (most recent call last)",
      "Cell \u001b[0;32mIn[13], line 1\u001b[0m\n\u001b[0;32m----> 1\u001b[0m torch\u001b[39m.\u001b[39;49mTensor\u001b[39m.\u001b[39;49mto(\u001b[39m'\u001b[39;49m\u001b[39mcuda\u001b[39;49m\u001b[39m'\u001b[39;49m)\n",
      "\u001b[0;31mTypeError\u001b[0m: descriptor 'to' for 'torch._C.TensorBase' objects doesn't apply to a 'str' object"
     ]
    }
   ],
   "source": [
    "torch.Tensor.to('cuda')"
   ]
  },
  {
   "cell_type": "code",
   "execution_count": 14,
   "metadata": {},
   "outputs": [
    {
     "data": {
      "text/plain": [
       "tensor([1., 2., 3.], device='cuda:0')"
      ]
     },
     "execution_count": 14,
     "metadata": {},
     "output_type": "execute_result"
    }
   ],
   "source": [
    "torch.Tensor([1,2,3]).to('cuda')"
   ]
  },
  {
   "cell_type": "code",
   "execution_count": 15,
   "metadata": {},
   "outputs": [
    {
     "ename": "TypeError",
     "evalue": "to() received an invalid combination of arguments - got (torch.dtype, str), but expected one of:\n * (torch.device device, torch.dtype dtype, bool non_blocking, bool copy, *, torch.memory_format memory_format)\n * (torch.dtype dtype, bool non_blocking, bool copy, *, torch.memory_format memory_format)\n * (Tensor tensor, bool non_blocking, bool copy, *, torch.memory_format memory_format)\n",
     "output_type": "error",
     "traceback": [
      "\u001b[0;31m---------------------------------------------------------------------------\u001b[0m",
      "\u001b[0;31mTypeError\u001b[0m                                 Traceback (most recent call last)",
      "Cell \u001b[0;32mIn[15], line 1\u001b[0m\n\u001b[0;32m----> 1\u001b[0m torch\u001b[39m.\u001b[39;49mTensor([\u001b[39m1\u001b[39;49m,\u001b[39m2\u001b[39;49m,\u001b[39m3\u001b[39;49m])\u001b[39m.\u001b[39;49mto(torch\u001b[39m.\u001b[39;49mbool, \u001b[39m'\u001b[39;49m\u001b[39mcuda\u001b[39;49m\u001b[39m'\u001b[39;49m)\n",
      "\u001b[0;31mTypeError\u001b[0m: to() received an invalid combination of arguments - got (torch.dtype, str), but expected one of:\n * (torch.device device, torch.dtype dtype, bool non_blocking, bool copy, *, torch.memory_format memory_format)\n * (torch.dtype dtype, bool non_blocking, bool copy, *, torch.memory_format memory_format)\n * (Tensor tensor, bool non_blocking, bool copy, *, torch.memory_format memory_format)\n"
     ]
    }
   ],
   "source": [
    "torch.Tensor([1,2,3]).to(torch.bool, 'cuda')"
   ]
  },
  {
   "cell_type": "code",
   "execution_count": 16,
   "metadata": {},
   "outputs": [
    {
     "ename": "TypeError",
     "evalue": "to() received an invalid combination of arguments - got (torch.dtype, dtype=str), but expected one of:\n * (torch.device device, torch.dtype dtype, bool non_blocking, bool copy, *, torch.memory_format memory_format)\n * (torch.dtype dtype, bool non_blocking, bool copy, *, torch.memory_format memory_format)\n * (Tensor tensor, bool non_blocking, bool copy, *, torch.memory_format memory_format)\n",
     "output_type": "error",
     "traceback": [
      "\u001b[0;31m---------------------------------------------------------------------------\u001b[0m",
      "\u001b[0;31mTypeError\u001b[0m                                 Traceback (most recent call last)",
      "Cell \u001b[0;32mIn[16], line 1\u001b[0m\n\u001b[0;32m----> 1\u001b[0m torch\u001b[39m.\u001b[39;49mTensor([\u001b[39m1\u001b[39;49m,\u001b[39m2\u001b[39;49m,\u001b[39m3\u001b[39;49m])\u001b[39m.\u001b[39;49mto(torch\u001b[39m.\u001b[39;49mbool, dtype\u001b[39m=\u001b[39;49m\u001b[39m'\u001b[39;49m\u001b[39mcuda\u001b[39;49m\u001b[39m'\u001b[39;49m)\n",
      "\u001b[0;31mTypeError\u001b[0m: to() received an invalid combination of arguments - got (torch.dtype, dtype=str), but expected one of:\n * (torch.device device, torch.dtype dtype, bool non_blocking, bool copy, *, torch.memory_format memory_format)\n * (torch.dtype dtype, bool non_blocking, bool copy, *, torch.memory_format memory_format)\n * (Tensor tensor, bool non_blocking, bool copy, *, torch.memory_format memory_format)\n"
     ]
    }
   ],
   "source": [
    "torch.Tensor([1,2,3]).to(torch.bool, dtype='cuda')"
   ]
  },
  {
   "cell_type": "code",
   "execution_count": 17,
   "metadata": {},
   "outputs": [
    {
     "data": {
      "text/plain": [
       "tensor([True, True, True], device='cuda:0')"
      ]
     },
     "execution_count": 17,
     "metadata": {},
     "output_type": "execute_result"
    }
   ],
   "source": [
    "torch.Tensor([1,2,3]).to('cuda', torch.bool)"
   ]
  },
  {
   "cell_type": "code",
   "execution_count": 18,
   "id": "0f63904a-9eb1-4233-b6c0-a4397e647e71",
   "metadata": {},
   "outputs": [
    {
     "ename": "RuntimeError",
     "evalue": "legacy constructor expects device type: cpu but device type: cuda was passed",
     "output_type": "error",
     "traceback": [
      "\u001b[0;31m---------------------------------------------------------------------------\u001b[0m",
      "\u001b[0;31mRuntimeError\u001b[0m                              Traceback (most recent call last)",
      "Cell \u001b[0;32mIn[18], line 13\u001b[0m\n\u001b[1;32m     10\u001b[0m   y \u001b[39m=\u001b[39m torch\u001b[39m.\u001b[39mwhere(torch\u001b[39m.\u001b[39mTensor(labels)\u001b[39m.\u001b[39mto(\u001b[39m'\u001b[39m\u001b[39mcuda\u001b[39m\u001b[39m'\u001b[39m, torch\u001b[39m.\u001b[39mbool), train_org[idxs, yn], train_forg[idxs, yn])\n\u001b[1;32m     11\u001b[0m   \u001b[39mreturn\u001b[39;00m torch\u001b[39m.\u001b[39mTensor(x), torch\u001b[39m.\u001b[39mTensor(y), torch\u001b[39m.\u001b[39mTensor(labels\u001b[39m.\u001b[39mflatten(), device\u001b[39m=\u001b[39m\u001b[39m'\u001b[39m\u001b[39mcuda\u001b[39m\u001b[39m'\u001b[39m)\n\u001b[0;32m---> 13\u001b[0m x,y,labels \u001b[39m=\u001b[39m getsample(\u001b[39m10\u001b[39;49m)\n\u001b[1;32m     16\u001b[0m x\u001b[39m.\u001b[39mshape \u001b[39m# torch.Size([10, 200, 300])\u001b[39;00m\n",
      "Cell \u001b[0;32mIn[18], line 11\u001b[0m, in \u001b[0;36mgetsample\u001b[0;34m(n)\u001b[0m\n\u001b[1;32m      8\u001b[0m \u001b[39m# y = np.where(labels, train_org[idxs, yn], train_forg[idxs, yn])\u001b[39;00m\n\u001b[1;32m     10\u001b[0m y \u001b[39m=\u001b[39m torch\u001b[39m.\u001b[39mwhere(torch\u001b[39m.\u001b[39mTensor(labels)\u001b[39m.\u001b[39mto(\u001b[39m'\u001b[39m\u001b[39mcuda\u001b[39m\u001b[39m'\u001b[39m, torch\u001b[39m.\u001b[39mbool), train_org[idxs, yn], train_forg[idxs, yn])\n\u001b[0;32m---> 11\u001b[0m \u001b[39mreturn\u001b[39;00m torch\u001b[39m.\u001b[39mTensor(x), torch\u001b[39m.\u001b[39mTensor(y), torch\u001b[39m.\u001b[39;49mTensor(labels\u001b[39m.\u001b[39;49mflatten(), device\u001b[39m=\u001b[39;49m\u001b[39m'\u001b[39;49m\u001b[39mcuda\u001b[39;49m\u001b[39m'\u001b[39;49m)\n",
      "\u001b[0;31mRuntimeError\u001b[0m: legacy constructor expects device type: cpu but device type: cuda was passed"
     ]
    }
   ],
   "source": [
    "def getsample(n=50):\n",
    "  labels = np.random.randint( 2, size=(n,1,1))\n",
    "  idxs = np.random.randint(50, size=n)\n",
    "  xn = np.random.randint(24, size=n)\n",
    "  x = train_org[idxs, xn]\n",
    "  yn = np.random.randint(24, size=n)\n",
    "  # y = np.where(labels, train_org[idxs, yn], train_forg[idxs, yn])\n",
    "\n",
    "  y = torch.where(torch.Tensor(labels).to('cuda', torch.bool), train_org[idxs, yn], train_forg[idxs, yn])\n",
    "  return torch.Tensor(x), torch.Tensor(y), torch.Tensor(labels.flatten(), device='cuda')\n",
    "\n",
    "x,y,labels = getsample(10)\n",
    "\n",
    "\n",
    "x.shape # torch.Size([10, 200, 300])"
   ]
  },
  {
   "cell_type": "code",
   "execution_count": 19,
   "id": "c01084ad-381d-4166-8aa7-b5992f37ba23",
   "metadata": {},
   "outputs": [
    {
     "ename": "TypeError",
     "evalue": "can't convert cuda:0 device type tensor to numpy. Use Tensor.cpu() to copy the tensor to host memory first.",
     "output_type": "error",
     "traceback": [
      "\u001b[0;31m---------------------------------------------------------------------------\u001b[0m",
      "\u001b[0;31mTypeError\u001b[0m                                 Traceback (most recent call last)",
      "Cell \u001b[0;32mIn[19], line 13\u001b[0m\n\u001b[1;32m     10\u001b[0m   \u001b[39m# y = torch.where(torch.Tensor(labels).to('cuda', torch.bool), train_org[idxs, yn], train_forg[idxs, yn])\u001b[39;00m\n\u001b[1;32m     11\u001b[0m   \u001b[39mreturn\u001b[39;00m torch\u001b[39m.\u001b[39mTensor(x), torch\u001b[39m.\u001b[39mTensor(y), torch\u001b[39m.\u001b[39mTensor(labels\u001b[39m.\u001b[39mflatten(), device\u001b[39m=\u001b[39m\u001b[39m'\u001b[39m\u001b[39mcuda\u001b[39m\u001b[39m'\u001b[39m)\n\u001b[0;32m---> 13\u001b[0m x,y,labels \u001b[39m=\u001b[39m getsample(\u001b[39m10\u001b[39;49m)\n\u001b[1;32m     16\u001b[0m x\u001b[39m.\u001b[39mshape \u001b[39m# torch.Size([10, 200, 300])\u001b[39;00m\n",
      "Cell \u001b[0;32mIn[19], line 8\u001b[0m, in \u001b[0;36mgetsample\u001b[0;34m(n)\u001b[0m\n\u001b[1;32m      6\u001b[0m x \u001b[39m=\u001b[39m train_org[idxs, xn]\n\u001b[1;32m      7\u001b[0m yn \u001b[39m=\u001b[39m np\u001b[39m.\u001b[39mrandom\u001b[39m.\u001b[39mrandint(\u001b[39m24\u001b[39m, size\u001b[39m=\u001b[39mn)\n\u001b[0;32m----> 8\u001b[0m y \u001b[39m=\u001b[39m np\u001b[39m.\u001b[39;49mwhere(labels, train_org[idxs, yn], train_forg[idxs, yn])\n\u001b[1;32m     10\u001b[0m \u001b[39m# y = torch.where(torch.Tensor(labels).to('cuda', torch.bool), train_org[idxs, yn], train_forg[idxs, yn])\u001b[39;00m\n\u001b[1;32m     11\u001b[0m \u001b[39mreturn\u001b[39;00m torch\u001b[39m.\u001b[39mTensor(x), torch\u001b[39m.\u001b[39mTensor(y), torch\u001b[39m.\u001b[39mTensor(labels\u001b[39m.\u001b[39mflatten(), device\u001b[39m=\u001b[39m\u001b[39m'\u001b[39m\u001b[39mcuda\u001b[39m\u001b[39m'\u001b[39m)\n",
      "File \u001b[0;32m~/.local/lib/python3.10/site-packages/torch/_tensor.py:1087\u001b[0m, in \u001b[0;36mTensor.__array__\u001b[0;34m(self, dtype)\u001b[0m\n\u001b[1;32m   1085\u001b[0m     \u001b[39mreturn\u001b[39;00m handle_torch_function(Tensor\u001b[39m.\u001b[39m__array__, (\u001b[39mself\u001b[39m,), \u001b[39mself\u001b[39m, dtype\u001b[39m=\u001b[39mdtype)\n\u001b[1;32m   1086\u001b[0m \u001b[39mif\u001b[39;00m dtype \u001b[39mis\u001b[39;00m \u001b[39mNone\u001b[39;00m:\n\u001b[0;32m-> 1087\u001b[0m     \u001b[39mreturn\u001b[39;00m \u001b[39mself\u001b[39;49m\u001b[39m.\u001b[39;49mnumpy()\n\u001b[1;32m   1088\u001b[0m \u001b[39melse\u001b[39;00m:\n\u001b[1;32m   1089\u001b[0m     \u001b[39mreturn\u001b[39;00m \u001b[39mself\u001b[39m\u001b[39m.\u001b[39mnumpy()\u001b[39m.\u001b[39mastype(dtype, copy\u001b[39m=\u001b[39m\u001b[39mFalse\u001b[39;00m)\n",
      "\u001b[0;31mTypeError\u001b[0m: can't convert cuda:0 device type tensor to numpy. Use Tensor.cpu() to copy the tensor to host memory first."
     ]
    }
   ],
   "source": [
    "def getsample(n=50):\n",
    "  labels = np.random.randint( 2, size=(n,1,1))\n",
    "  idxs = np.random.randint(50, size=n)\n",
    "  xn = np.random.randint(24, size=n)\n",
    "  x = train_org[idxs, xn]\n",
    "  yn = np.random.randint(24, size=n)\n",
    "  y = np.where(labels, train_org[idxs, yn], train_forg[idxs, yn])\n",
    "\n",
    "  # y = torch.where(torch.Tensor(labels).to('cuda', torch.bool), train_org[idxs, yn], train_forg[idxs, yn])\n",
    "  return torch.Tensor(x), torch.Tensor(y), torch.Tensor(labels.flatten(), device='cuda')\n",
    "\n",
    "x,y,labels = getsample(10)\n",
    "\n",
    "\n",
    "x.shape # torch.Size([10, 200, 300])"
   ]
  },
  {
   "cell_type": "markdown",
   "metadata": {},
   "source": [
    "Connected to Python 3.10.12"
   ]
  },
  {
   "cell_type": "code",
   "execution_count": 1,
   "id": "cb1c3a72-f904-4044-ba25-e2e2bec18c39",
   "metadata": {},
   "outputs": [
    {
     "ename": "NameError",
     "evalue": "name 'np' is not defined",
     "output_type": "error",
     "traceback": [
      "\u001b[0;31m---------------------------------------------------------------------------\u001b[0m",
      "\u001b[0;31mNameError\u001b[0m                                 Traceback (most recent call last)",
      "File \u001b[1;32m/home/dkormann/check_sigs/torch_train.py:14\u001b[0m\n\u001b[1;32m     10\u001b[0m   \u001b[39m# y = torch.where(torch.Tensor(labels).to('cuda', torch.bool), train_org[idxs, yn], train_forg[idxs, yn])\u001b[39;00m\n\u001b[1;32m     12\u001b[0m   \u001b[39mreturn\u001b[39;00m torch\u001b[39m.\u001b[39mTensor(x), torch\u001b[39m.\u001b[39mTensor(y), torch\u001b[39m.\u001b[39mTensor(labels\u001b[39m.\u001b[39mflatten(), device\u001b[39m=\u001b[39m\u001b[39m'\u001b[39m\u001b[39mcuda\u001b[39m\u001b[39m'\u001b[39m)\n\u001b[0;32m---> 14\u001b[0m x,y,labels \u001b[39m=\u001b[39m getsample(\u001b[39m10\u001b[39;49m)\n\u001b[1;32m     17\u001b[0m x\u001b[39m.\u001b[39mshape \u001b[39m# torch.Size([10, 200, 300])\u001b[39;00m\n",
      "File \u001b[1;32m/home/dkormann/check_sigs/torch_train.py:3\u001b[0m\n\u001b[1;32m      2\u001b[0m \u001b[39mdef\u001b[39;00m \u001b[39mgetsample\u001b[39m(n\u001b[39m=\u001b[39m\u001b[39m50\u001b[39m):\n\u001b[0;32m----> 3\u001b[0m   labels \u001b[39m=\u001b[39m np\u001b[39m.\u001b[39mrandom\u001b[39m.\u001b[39mrandint( \u001b[39m2\u001b[39m, size\u001b[39m=\u001b[39m(n,\u001b[39m1\u001b[39m,\u001b[39m1\u001b[39m))\n\u001b[1;32m      4\u001b[0m   idxs \u001b[39m=\u001b[39m np\u001b[39m.\u001b[39mrandom\u001b[39m.\u001b[39mrandint(\u001b[39m50\u001b[39m, size\u001b[39m=\u001b[39mn)\n\u001b[1;32m      5\u001b[0m   xn \u001b[39m=\u001b[39m np\u001b[39m.\u001b[39mrandom\u001b[39m.\u001b[39mrandint(\u001b[39m24\u001b[39m, size\u001b[39m=\u001b[39mn)\n",
      "\u001b[0;31mNameError\u001b[0m: name 'np' is not defined"
     ]
    }
   ],
   "source": [
    "def getsample(n=50):\n",
    "  labels = np.random.randint( 2, size=(n,1,1))\n",
    "  idxs = np.random.randint(50, size=n)\n",
    "  xn = np.random.randint(24, size=n)\n",
    "  x = train_org[idxs, xn]\n",
    "  yn = np.random.randint(24, size=n)\n",
    "  y = np.where(labels, train_org[idxs, yn], train_forg[idxs, yn])\n",
    "\n",
    "  # y = torch.where(torch.Tensor(labels).to('cuda', torch.bool), train_org[idxs, yn], train_forg[idxs, yn])\n",
    "\n",
    "  return torch.Tensor(x), torch.Tensor(y), torch.Tensor(labels.flatten(), device='cuda')\n",
    "\n",
    "x,y,labels = getsample(10)\n",
    "\n",
    "\n",
    "x.shape # torch.Size([10, 200, 300])"
   ]
  },
  {
   "cell_type": "code",
   "execution_count": 2,
   "id": "395894a6-34e9-4e14-bf4e-0fc74ee68ae7",
   "metadata": {},
   "outputs": [],
   "source": [
    "import os\n",
    "import torch\n",
    "from torch import nn\n",
    "from PIL import Image\n",
    "import numpy as np\n",
    "from matplotlib import pyplot as plt\n",
    "import tqdm"
   ]
  },
  {
   "cell_type": "code",
   "execution_count": 3,
   "id": "0f8c8b54-fa6a-4cfe-9cfa-bc59dee5a17b",
   "metadata": {},
   "outputs": [
    {
     "name": "stderr",
     "output_type": "stream",
     "text": [
      "loading /shared/datasets/signatures/signatures/full_org: 100%|██████████| 1321/1321 [00:01<00:00, 743.65it/s]\n",
      "loading /shared/datasets/signatures/signatures/full_forg: 100%|██████████| 1321/1321 [00:01<00:00, 717.92it/s]\n"
     ]
    }
   ],
   "source": [
    "maxdims = [576, 672]\n",
    "datapath = '/shared/datasets/signatures/signatures'\n",
    "\n",
    "def loadimage(path):\n",
    "  img = Image.open(path).convert('L')\n",
    "  img = np.array(img)\n",
    "  img = img[:maxdims[0], :maxdims[1]]\n",
    "  img = np.pad(img, ((0, maxdims[0] - img.shape[0]), (0, maxdims[1] - img.shape[1])))\n",
    "  return img\n",
    "\n",
    "def readpath(path):\n",
    "  collection = {}\n",
    "  t = tqdm.tqdm(os.listdir(path), desc=f'loading {path}')\n",
    "  for img_path in t:\n",
    "    if not img_path.endswith('.png'): continue\n",
    "    id = img_path.split('_')[1]\n",
    "    collection.setdefault(id, []).append(loadimage(path+'/'+img_path))\n",
    "  res = np.array([np.array(collection[key]) for key in sorted(collection.keys())], dtype=np.float32) / 255.0\n",
    "  return torch.nn.functional.adaptive_avg_pool2d(torch.Tensor(res), (200, 300),).to('cuda')\n",
    "\n",
    "org = readpath(datapath+'/full_org')\n",
    "forg = readpath(datapath+'/full_forg')\n",
    "\n",
    "train_org = org[:50]\n",
    "train_forg = forg[:50]\n",
    "test_org = org[50:]\n",
    "test_forg = forg[50:]"
   ]
  },
  {
   "cell_type": "code",
   "execution_count": 4,
   "id": "0c41c37f-2195-4aa6-b363-a624ff782c04",
   "metadata": {},
   "outputs": [
    {
     "ename": "TypeError",
     "evalue": "can't convert cuda:0 device type tensor to numpy. Use Tensor.cpu() to copy the tensor to host memory first.",
     "output_type": "error",
     "traceback": [
      "\u001b[0;31m---------------------------------------------------------------------------\u001b[0m",
      "\u001b[0;31mTypeError\u001b[0m                                 Traceback (most recent call last)",
      "File \u001b[1;32m/home/dkormann/check_sigs/torch_train.py:14\u001b[0m\n\u001b[1;32m     10\u001b[0m   \u001b[39m# y = torch.where(torch.Tensor(labels).to('cuda', torch.bool), train_org[idxs, yn], train_forg[idxs, yn])\u001b[39;00m\n\u001b[1;32m     12\u001b[0m   \u001b[39mreturn\u001b[39;00m torch\u001b[39m.\u001b[39mTensor(x), torch\u001b[39m.\u001b[39mTensor(y), torch\u001b[39m.\u001b[39mTensor(labels\u001b[39m.\u001b[39mflatten(), device\u001b[39m=\u001b[39m\u001b[39m'\u001b[39m\u001b[39mcuda\u001b[39m\u001b[39m'\u001b[39m)\n\u001b[0;32m---> 14\u001b[0m x,y,labels \u001b[39m=\u001b[39m getsample(\u001b[39m10\u001b[39;49m)\n\u001b[1;32m     17\u001b[0m x\u001b[39m.\u001b[39mshape \u001b[39m# torch.Size([10, 200, 300])\u001b[39;00m\n",
      "File \u001b[1;32m/home/dkormann/check_sigs/torch_train.py:8\u001b[0m\n\u001b[1;32m      6\u001b[0m x \u001b[39m=\u001b[39m train_org[idxs, xn]\n\u001b[1;32m      7\u001b[0m yn \u001b[39m=\u001b[39m np\u001b[39m.\u001b[39mrandom\u001b[39m.\u001b[39mrandint(\u001b[39m24\u001b[39m, size\u001b[39m=\u001b[39mn)\n\u001b[0;32m----> 8\u001b[0m y \u001b[39m=\u001b[39m np\u001b[39m.\u001b[39;49mwhere(labels, train_org[idxs, yn], train_forg[idxs, yn])\n\u001b[1;32m     10\u001b[0m \u001b[39m# y = torch.where(torch.Tensor(labels).to('cuda', torch.bool), train_org[idxs, yn], train_forg[idxs, yn])\u001b[39;00m\n\u001b[1;32m     12\u001b[0m \u001b[39mreturn\u001b[39;00m torch\u001b[39m.\u001b[39mTensor(x), torch\u001b[39m.\u001b[39mTensor(y), torch\u001b[39m.\u001b[39mTensor(labels\u001b[39m.\u001b[39mflatten(), device\u001b[39m=\u001b[39m\u001b[39m'\u001b[39m\u001b[39mcuda\u001b[39m\u001b[39m'\u001b[39m)\n",
      "File \u001b[0;32m~/.local/lib/python3.10/site-packages/torch/_tensor.py:1087\u001b[0m, in \u001b[0;36mTensor.__array__\u001b[0;34m(self, dtype)\u001b[0m\n\u001b[1;32m   1085\u001b[0m     \u001b[39mreturn\u001b[39;00m handle_torch_function(Tensor\u001b[39m.\u001b[39m__array__, (\u001b[39mself\u001b[39m,), \u001b[39mself\u001b[39m, dtype\u001b[39m=\u001b[39mdtype)\n\u001b[1;32m   1086\u001b[0m \u001b[39mif\u001b[39;00m dtype \u001b[39mis\u001b[39;00m \u001b[39mNone\u001b[39;00m:\n\u001b[0;32m-> 1087\u001b[0m     \u001b[39mreturn\u001b[39;00m \u001b[39mself\u001b[39;49m\u001b[39m.\u001b[39;49mnumpy()\n\u001b[1;32m   1088\u001b[0m \u001b[39melse\u001b[39;00m:\n\u001b[1;32m   1089\u001b[0m     \u001b[39mreturn\u001b[39;00m \u001b[39mself\u001b[39m\u001b[39m.\u001b[39mnumpy()\u001b[39m.\u001b[39mastype(dtype, copy\u001b[39m=\u001b[39m\u001b[39mFalse\u001b[39;00m)\n",
      "\u001b[0;31mTypeError\u001b[0m: can't convert cuda:0 device type tensor to numpy. Use Tensor.cpu() to copy the tensor to host memory first."
     ]
    }
   ],
   "source": [
    "def getsample(n=50):\n",
    "  labels = np.random.randint( 2, size=(n,1,1))\n",
    "  idxs = np.random.randint(50, size=n)\n",
    "  xn = np.random.randint(24, size=n)\n",
    "  x = train_org[idxs, xn]\n",
    "  yn = np.random.randint(24, size=n)\n",
    "  y = np.where(labels, train_org[idxs, yn], train_forg[idxs, yn])\n",
    "\n",
    "  # y = torch.where(torch.Tensor(labels).to('cuda', torch.bool), train_org[idxs, yn], train_forg[idxs, yn])\n",
    "\n",
    "  return torch.Tensor(x), torch.Tensor(y), torch.Tensor(labels.flatten(), device='cuda')\n",
    "\n",
    "x,y,labels = getsample(10)\n",
    "\n",
    "\n",
    "x.shape # torch.Size([10, 200, 300])"
   ]
  },
  {
   "cell_type": "code",
   "execution_count": 5,
   "id": "a63aedb2-bddb-4c59-a92d-ba0bfb192115",
   "metadata": {},
   "outputs": [
    {
     "ename": "RuntimeError",
     "evalue": "legacy constructor expects device type: cpu but device type: cuda was passed",
     "output_type": "error",
     "traceback": [
      "\u001b[0;31m---------------------------------------------------------------------------\u001b[0m",
      "\u001b[0;31mRuntimeError\u001b[0m                              Traceback (most recent call last)",
      "File \u001b[1;32m/home/dkormann/check_sigs/torch_train.py:14\u001b[0m\n\u001b[1;32m     10\u001b[0m   y \u001b[39m=\u001b[39m torch\u001b[39m.\u001b[39mwhere(torch\u001b[39m.\u001b[39mTensor(labels)\u001b[39m.\u001b[39mto(\u001b[39m'\u001b[39m\u001b[39mcuda\u001b[39m\u001b[39m'\u001b[39m, torch\u001b[39m.\u001b[39mbool), train_org[idxs, yn], train_forg[idxs, yn])\n\u001b[1;32m     12\u001b[0m   \u001b[39mreturn\u001b[39;00m torch\u001b[39m.\u001b[39mTensor(x), torch\u001b[39m.\u001b[39mTensor(y), torch\u001b[39m.\u001b[39mTensor(labels\u001b[39m.\u001b[39mflatten(), device\u001b[39m=\u001b[39m\u001b[39m'\u001b[39m\u001b[39mcuda\u001b[39m\u001b[39m'\u001b[39m)\n\u001b[0;32m---> 14\u001b[0m x,y,labels \u001b[39m=\u001b[39m getsample(\u001b[39m10\u001b[39;49m)\n\u001b[1;32m     17\u001b[0m x\u001b[39m.\u001b[39mshape \u001b[39m# torch.Size([10, 200, 300])\u001b[39;00m\n",
      "File \u001b[1;32m/home/dkormann/check_sigs/torch_train.py:12\u001b[0m\n\u001b[1;32m      8\u001b[0m \u001b[39m# y = np.where(labels, train_org[idxs, yn], train_forg[idxs, yn])\u001b[39;00m\n\u001b[1;32m     10\u001b[0m y \u001b[39m=\u001b[39m torch\u001b[39m.\u001b[39mwhere(torch\u001b[39m.\u001b[39mTensor(labels)\u001b[39m.\u001b[39mto(\u001b[39m'\u001b[39m\u001b[39mcuda\u001b[39m\u001b[39m'\u001b[39m, torch\u001b[39m.\u001b[39mbool), train_org[idxs, yn], train_forg[idxs, yn])\n\u001b[0;32m---> 12\u001b[0m \u001b[39mreturn\u001b[39;00m torch\u001b[39m.\u001b[39mTensor(x), torch\u001b[39m.\u001b[39mTensor(y), torch\u001b[39m.\u001b[39;49mTensor(labels\u001b[39m.\u001b[39;49mflatten(), device\u001b[39m=\u001b[39;49m\u001b[39m'\u001b[39;49m\u001b[39mcuda\u001b[39;49m\u001b[39m'\u001b[39;49m)\n",
      "\u001b[0;31mRuntimeError\u001b[0m: legacy constructor expects device type: cpu but device type: cuda was passed"
     ]
    }
   ],
   "source": [
    "def getsample(n=50):\n",
    "  labels = np.random.randint( 2, size=(n,1,1))\n",
    "  idxs = np.random.randint(50, size=n)\n",
    "  xn = np.random.randint(24, size=n)\n",
    "  x = train_org[idxs, xn]\n",
    "  yn = np.random.randint(24, size=n)\n",
    "  # y = np.where(labels, train_org[idxs, yn], train_forg[idxs, yn])\n",
    "\n",
    "  y = torch.where(torch.Tensor(labels).to('cuda', torch.bool), train_org[idxs, yn], train_forg[idxs, yn])\n",
    "\n",
    "  return torch.Tensor(x), torch.Tensor(y), torch.Tensor(labels.flatten(), device='cuda')\n",
    "\n",
    "x,y,labels = getsample(10)\n",
    "\n",
    "\n",
    "x.shape # torch.Size([10, 200, 300])"
   ]
  },
  {
   "cell_type": "code",
   "execution_count": 6,
   "id": "5c1b0afc-0a87-4cf1-8570-cd9db2c36c88",
   "metadata": {},
   "outputs": [
    {
     "name": "stdout",
     "output_type": "stream",
     "text": [
      "tensor([[[0]],\n",
      "\n",
      "        [[0]],\n",
      "\n",
      "        [[0]],\n",
      "\n",
      "        [[0]],\n",
      "\n",
      "        [[0]],\n",
      "\n",
      "        [[0]],\n",
      "\n",
      "        [[1]],\n",
      "\n",
      "        [[0]],\n",
      "\n",
      "        [[1]],\n",
      "\n",
      "        [[1]]], device='cuda:0')\n"
     ]
    },
    {
     "ename": "RuntimeError",
     "evalue": "Legacy tensor constructor of the form torch.Tensor(tensor, device=device) is not supported.  Use torch.tensor(...) or torch.as_tensor(...) instead.",
     "output_type": "error",
     "traceback": [
      "\u001b[0;31m---------------------------------------------------------------------------\u001b[0m",
      "\u001b[0;31mRuntimeError\u001b[0m                              Traceback (most recent call last)",
      "File \u001b[1;32m/home/dkormann/check_sigs/torch_train.py:16\u001b[0m\n\u001b[1;32m     12\u001b[0m   y \u001b[39m=\u001b[39m torch\u001b[39m.\u001b[39mwhere(torch\u001b[39m.\u001b[39mTensor(labels)\u001b[39m.\u001b[39mto(\u001b[39m'\u001b[39m\u001b[39mcuda\u001b[39m\u001b[39m'\u001b[39m, torch\u001b[39m.\u001b[39mbool), train_org[idxs, yn], train_forg[idxs, yn])\n\u001b[1;32m     14\u001b[0m   \u001b[39mreturn\u001b[39;00m torch\u001b[39m.\u001b[39mTensor(x), torch\u001b[39m.\u001b[39mTensor(y), torch\u001b[39m.\u001b[39mTensor(labels\u001b[39m.\u001b[39mflatten(), device\u001b[39m=\u001b[39m\u001b[39m'\u001b[39m\u001b[39mcuda\u001b[39m\u001b[39m'\u001b[39m)\n\u001b[0;32m---> 16\u001b[0m x,y,labels \u001b[39m=\u001b[39m getsample(\u001b[39m10\u001b[39;49m)\n\u001b[1;32m     19\u001b[0m x\u001b[39m.\u001b[39mshape \u001b[39m# torch.Size([10, 200, 300])\u001b[39;00m\n",
      "File \u001b[1;32m/home/dkormann/check_sigs/torch_train.py:14\u001b[0m\n\u001b[1;32m     11\u001b[0m \u001b[39mprint\u001b[39m(labels)\n\u001b[1;32m     12\u001b[0m y \u001b[39m=\u001b[39m torch\u001b[39m.\u001b[39mwhere(torch\u001b[39m.\u001b[39mTensor(labels)\u001b[39m.\u001b[39mto(\u001b[39m'\u001b[39m\u001b[39mcuda\u001b[39m\u001b[39m'\u001b[39m, torch\u001b[39m.\u001b[39mbool), train_org[idxs, yn], train_forg[idxs, yn])\n\u001b[0;32m---> 14\u001b[0m \u001b[39mreturn\u001b[39;00m torch\u001b[39m.\u001b[39mTensor(x), torch\u001b[39m.\u001b[39mTensor(y), torch\u001b[39m.\u001b[39;49mTensor(labels\u001b[39m.\u001b[39;49mflatten(), device\u001b[39m=\u001b[39;49m\u001b[39m'\u001b[39;49m\u001b[39mcuda\u001b[39;49m\u001b[39m'\u001b[39;49m)\n",
      "\u001b[0;31mRuntimeError\u001b[0m: Legacy tensor constructor of the form torch.Tensor(tensor, device=device) is not supported.  Use torch.tensor(...) or torch.as_tensor(...) instead."
     ]
    }
   ],
   "source": [
    "def getsample(n=50):\n",
    "  labels = np.random.randint( 2, size=(n,1,1))\n",
    "  idxs = np.random.randint(50, size=n)\n",
    "  xn = np.random.randint(24, size=n)\n",
    "  x = train_org[idxs, xn]\n",
    "  yn = np.random.randint(24, size=n)\n",
    "  # y = np.where(labels, train_org[idxs, yn], train_forg[idxs, yn])\n",
    "\n",
    "  labels = torch.tensor(labels, device='cuda')\n",
    "  print(labels)\n",
    "  y = torch.where(torch.Tensor(labels).to('cuda', torch.bool), train_org[idxs, yn], train_forg[idxs, yn])\n",
    "\n",
    "  return torch.Tensor(x), torch.Tensor(y), torch.Tensor(labels.flatten(), device='cuda')\n",
    "\n",
    "x,y,labels = getsample(10)\n",
    "\n",
    "\n",
    "x.shape # torch.Size([10, 200, 300])"
   ]
  },
  {
   "cell_type": "code",
   "execution_count": 7,
   "id": "d548ee2c-260d-49a3-aaad-3fe875e0bb9d",
   "metadata": {},
   "outputs": [
    {
     "name": "stdout",
     "output_type": "stream",
     "text": [
      "tensor([[[1]],\n",
      "\n",
      "        [[0]],\n",
      "\n",
      "        [[0]],\n",
      "\n",
      "        [[0]],\n",
      "\n",
      "        [[0]],\n",
      "\n",
      "        [[0]],\n",
      "\n",
      "        [[0]],\n",
      "\n",
      "        [[1]],\n",
      "\n",
      "        [[1]],\n",
      "\n",
      "        [[0]]], device='cuda:0')\n"
     ]
    },
    {
     "ename": "RuntimeError",
     "evalue": "where expected condition to be a boolean tensor, but got a tensor with dtype Long",
     "output_type": "error",
     "traceback": [
      "\u001b[0;31m---------------------------------------------------------------------------\u001b[0m",
      "\u001b[0;31mRuntimeError\u001b[0m                              Traceback (most recent call last)",
      "File \u001b[1;32m/home/dkormann/check_sigs/torch_train.py:16\u001b[0m\n\u001b[1;32m     12\u001b[0m   y \u001b[39m=\u001b[39m torch\u001b[39m.\u001b[39mwhere(labels, train_org[idxs, yn], train_forg[idxs, yn])\n\u001b[1;32m     14\u001b[0m   \u001b[39mreturn\u001b[39;00m torch\u001b[39m.\u001b[39mTensor(x), torch\u001b[39m.\u001b[39mTensor(y), torch\u001b[39m.\u001b[39mTensor(labels\u001b[39m.\u001b[39mflatten(), device\u001b[39m=\u001b[39m\u001b[39m'\u001b[39m\u001b[39mcuda\u001b[39m\u001b[39m'\u001b[39m)\n\u001b[0;32m---> 16\u001b[0m x,y,labels \u001b[39m=\u001b[39m getsample(\u001b[39m10\u001b[39;49m)\n\u001b[1;32m     19\u001b[0m x\u001b[39m.\u001b[39mshape \u001b[39m# torch.Size([10, 200, 300])\u001b[39;00m\n",
      "File \u001b[1;32m/home/dkormann/check_sigs/torch_train.py:12\u001b[0m\n\u001b[1;32m     10\u001b[0m labels \u001b[39m=\u001b[39m torch\u001b[39m.\u001b[39mtensor(labels, device\u001b[39m=\u001b[39m\u001b[39m'\u001b[39m\u001b[39mcuda\u001b[39m\u001b[39m'\u001b[39m)\n\u001b[1;32m     11\u001b[0m \u001b[39mprint\u001b[39m(labels)\n\u001b[0;32m---> 12\u001b[0m y \u001b[39m=\u001b[39m torch\u001b[39m.\u001b[39;49mwhere(labels, train_org[idxs, yn], train_forg[idxs, yn])\n\u001b[1;32m     14\u001b[0m \u001b[39mreturn\u001b[39;00m torch\u001b[39m.\u001b[39mTensor(x), torch\u001b[39m.\u001b[39mTensor(y), torch\u001b[39m.\u001b[39mTensor(labels\u001b[39m.\u001b[39mflatten(), device\u001b[39m=\u001b[39m\u001b[39m'\u001b[39m\u001b[39mcuda\u001b[39m\u001b[39m'\u001b[39m)\n",
      "\u001b[0;31mRuntimeError\u001b[0m: where expected condition to be a boolean tensor, but got a tensor with dtype Long"
     ]
    }
   ],
   "source": [
    "def getsample(n=50):\n",
    "  labels = np.random.randint( 2, size=(n,1,1))\n",
    "  idxs = np.random.randint(50, size=n)\n",
    "  xn = np.random.randint(24, size=n)\n",
    "  x = train_org[idxs, xn]\n",
    "  yn = np.random.randint(24, size=n)\n",
    "  # y = np.where(labels, train_org[idxs, yn], train_forg[idxs, yn])\n",
    "\n",
    "  labels = torch.tensor(labels, device='cuda')\n",
    "  print(labels)\n",
    "  y = torch.where(labels, train_org[idxs, yn], train_forg[idxs, yn])\n",
    "\n",
    "  return torch.Tensor(x), torch.Tensor(y), torch.Tensor(labels.flatten(), device='cuda')\n",
    "\n",
    "x,y,labels = getsample(10)\n",
    "\n",
    "\n",
    "x.shape # torch.Size([10, 200, 300])"
   ]
  },
  {
   "cell_type": "code",
   "execution_count": 8,
   "id": "cbfa1143-08e9-4dbe-b4dc-fcd5b164057f",
   "metadata": {},
   "outputs": [
    {
     "name": "stdout",
     "output_type": "stream",
     "text": [
      "tensor([[[ True]],\n",
      "\n",
      "        [[ True]],\n",
      "\n",
      "        [[False]],\n",
      "\n",
      "        [[ True]],\n",
      "\n",
      "        [[ True]],\n",
      "\n",
      "        [[ True]],\n",
      "\n",
      "        [[False]],\n",
      "\n",
      "        [[False]],\n",
      "\n",
      "        [[ True]],\n",
      "\n",
      "        [[ True]]], device='cuda:0')\n"
     ]
    },
    {
     "ename": "RuntimeError",
     "evalue": "Legacy tensor constructor of the form torch.Tensor(tensor, device=device) is not supported.  Use torch.tensor(...) or torch.as_tensor(...) instead.",
     "output_type": "error",
     "traceback": [
      "\u001b[0;31m---------------------------------------------------------------------------\u001b[0m",
      "\u001b[0;31mRuntimeError\u001b[0m                              Traceback (most recent call last)",
      "File \u001b[1;32m/home/dkormann/check_sigs/torch_train.py:16\u001b[0m\n\u001b[1;32m     12\u001b[0m   y \u001b[39m=\u001b[39m torch\u001b[39m.\u001b[39mwhere(labels, train_org[idxs, yn], train_forg[idxs, yn])\n\u001b[1;32m     14\u001b[0m   \u001b[39mreturn\u001b[39;00m torch\u001b[39m.\u001b[39mTensor(x), torch\u001b[39m.\u001b[39mTensor(y), torch\u001b[39m.\u001b[39mTensor(labels\u001b[39m.\u001b[39mflatten(), device\u001b[39m=\u001b[39m\u001b[39m'\u001b[39m\u001b[39mcuda\u001b[39m\u001b[39m'\u001b[39m)\n\u001b[0;32m---> 16\u001b[0m x,y,labels \u001b[39m=\u001b[39m getsample(\u001b[39m10\u001b[39;49m)\n\u001b[1;32m     19\u001b[0m x\u001b[39m.\u001b[39mshape \u001b[39m# torch.Size([10, 200, 300])\u001b[39;00m\n",
      "File \u001b[1;32m/home/dkormann/check_sigs/torch_train.py:14\u001b[0m\n\u001b[1;32m     11\u001b[0m \u001b[39mprint\u001b[39m(labels)\n\u001b[1;32m     12\u001b[0m y \u001b[39m=\u001b[39m torch\u001b[39m.\u001b[39mwhere(labels, train_org[idxs, yn], train_forg[idxs, yn])\n\u001b[0;32m---> 14\u001b[0m \u001b[39mreturn\u001b[39;00m torch\u001b[39m.\u001b[39mTensor(x), torch\u001b[39m.\u001b[39mTensor(y), torch\u001b[39m.\u001b[39;49mTensor(labels\u001b[39m.\u001b[39;49mflatten(), device\u001b[39m=\u001b[39;49m\u001b[39m'\u001b[39;49m\u001b[39mcuda\u001b[39;49m\u001b[39m'\u001b[39;49m)\n",
      "\u001b[0;31mRuntimeError\u001b[0m: Legacy tensor constructor of the form torch.Tensor(tensor, device=device) is not supported.  Use torch.tensor(...) or torch.as_tensor(...) instead."
     ]
    }
   ],
   "source": [
    "def getsample(n=50):\n",
    "  labels = np.random.randint( 2, size=(n,1,1))\n",
    "  idxs = np.random.randint(50, size=n)\n",
    "  xn = np.random.randint(24, size=n)\n",
    "  x = train_org[idxs, xn]\n",
    "  yn = np.random.randint(24, size=n)\n",
    "  # y = np.where(labels, train_org[idxs, yn], train_forg[idxs, yn])\n",
    "\n",
    "  labels = torch.tensor(labels, dtype=bool, device='cuda')\n",
    "  print(labels)\n",
    "  y = torch.where(labels, train_org[idxs, yn], train_forg[idxs, yn])\n",
    "\n",
    "  return torch.Tensor(x), torch.Tensor(y), torch.Tensor(labels.flatten(), device='cuda')\n",
    "\n",
    "x,y,labels = getsample(10)\n",
    "\n",
    "\n",
    "x.shape # torch.Size([10, 200, 300])"
   ]
  },
  {
   "cell_type": "code",
   "execution_count": 9,
   "id": "ed41b16b-1843-41da-8845-f8bdc657607a",
   "metadata": {},
   "outputs": [
    {
     "name": "stdout",
     "output_type": "stream",
     "text": [
      "tensor([[[ True]],\n",
      "\n",
      "        [[ True]],\n",
      "\n",
      "        [[ True]],\n",
      "\n",
      "        [[ True]],\n",
      "\n",
      "        [[False]],\n",
      "\n",
      "        [[False]],\n",
      "\n",
      "        [[ True]],\n",
      "\n",
      "        [[False]],\n",
      "\n",
      "        [[ True]],\n",
      "\n",
      "        [[ True]]], device='cuda:0')\n"
     ]
    },
    {
     "data": {
      "text/plain": [
       "torch.Size([10, 200, 300])"
      ]
     },
     "execution_count": 9,
     "metadata": {},
     "output_type": "execute_result"
    }
   ],
   "source": [
    "def getsample(n=50):\n",
    "  labels = np.random.randint( 2, size=(n,1,1))\n",
    "  idxs = np.random.randint(50, size=n)\n",
    "  xn = np.random.randint(24, size=n)\n",
    "  x = train_org[idxs, xn]\n",
    "  yn = np.random.randint(24, size=n)\n",
    "  # y = np.where(labels, train_org[idxs, yn], train_forg[idxs, yn])\n",
    "\n",
    "  labels = torch.tensor(labels, dtype=bool, device='cuda')\n",
    "  print(labels)\n",
    "  y = torch.where(labels, train_org[idxs, yn], train_forg[idxs, yn])\n",
    "\n",
    "  return torch.Tensor(x), torch.Tensor(y), labels\n",
    "\n",
    "x,y,labels = getsample(10)\n",
    "\n",
    "\n",
    "x.shape # torch.Size([10, 200, 300])"
   ]
  },
  {
   "cell_type": "code",
   "execution_count": 10,
   "id": "9be64ca2-2ed5-4b2f-a61b-8e9d0da23887",
   "metadata": {},
   "outputs": [
    {
     "name": "stdout",
     "output_type": "stream",
     "text": [
      "<class 'torch.Tensor'>\n"
     ]
    },
    {
     "data": {
      "text/plain": [
       "torch.Size([10, 200, 300])"
      ]
     },
     "execution_count": 10,
     "metadata": {},
     "output_type": "execute_result"
    }
   ],
   "source": [
    "def getsample(n=50):\n",
    "  labels = np.random.randint( 2, size=(n,1,1))\n",
    "  idxs = np.random.randint(50, size=n)\n",
    "  xn = np.random.randint(24, size=n)\n",
    "  x = train_org[idxs, xn]\n",
    "  yn = np.random.randint(24, size=n)\n",
    "  # y = np.where(labels, train_org[idxs, yn], train_forg[idxs, yn])\n",
    "\n",
    "  labels = torch.tensor(labels, dtype=bool, device='cuda')\n",
    "\n",
    "  y = torch.where(labels, train_org[idxs, yn], train_forg[idxs, yn])\n",
    "  print(type(y))\n",
    "\n",
    "\n",
    "  return torch.Tensor(x), torch.Tensor(y), labels\n",
    "\n",
    "x,y,labels = getsample(10)\n",
    "\n",
    "\n",
    "x.shape # torch.Size([10, 200, 300])"
   ]
  },
  {
   "cell_type": "code",
   "execution_count": 11,
   "id": "1b644003-338b-4860-9655-609f70665584",
   "metadata": {},
   "outputs": [
    {
     "data": {
      "text/plain": [
       "torch.Size([10, 200, 300])"
      ]
     },
     "execution_count": 11,
     "metadata": {},
     "output_type": "execute_result"
    }
   ],
   "source": [
    "def getsample(n=50):\n",
    "  labels = np.random.randint( 2, size=(n,1,1))\n",
    "  idxs = np.random.randint(50, size=n)\n",
    "  xn = np.random.randint(24, size=n)\n",
    "  x = train_org[idxs, xn]\n",
    "  yn = np.random.randint(24, size=n)\n",
    "  # y = np.where(labels, train_org[idxs, yn], train_forg[idxs, yn])\n",
    "\n",
    "  labels = torch.tensor(labels, dtype=bool, device='cuda')\n",
    "\n",
    "  y = torch.where(labels, train_org[idxs, yn], train_forg[idxs, yn])\n",
    "\n",
    "  return x, y, labels\n",
    "\n",
    "x,y,labels = getsample(10)\n",
    "\n",
    "\n",
    "x.shape # torch.Size([10, 200, 300])"
   ]
  },
  {
   "cell_type": "code",
   "execution_count": 12,
   "metadata": {},
   "outputs": [
    {
     "data": {
      "text/plain": [
       "torch.float32"
      ]
     },
     "execution_count": 12,
     "metadata": {},
     "output_type": "execute_result"
    }
   ],
   "source": [
    "x.dtype"
   ]
  },
  {
   "cell_type": "code",
   "execution_count": 13,
   "metadata": {},
   "outputs": [
    {
     "data": {
      "text/plain": [
       "device(type='cuda', index=0)"
      ]
     },
     "execution_count": 13,
     "metadata": {},
     "output_type": "execute_result"
    }
   ],
   "source": [
    "x.device"
   ]
  }
 ],
 "metadata": {
  "kernelspec": {
   "display_name": "Python 3",
   "language": "python",
   "name": "python3"
  },
  "language_info": {
   "codemirror_mode": {
    "name": "ipython",
    "version": 3
   },
   "file_extension": ".py",
   "mimetype": "text/x-python",
   "name": "python",
   "nbconvert_exporter": "python",
   "pygments_lexer": "ipython3",
   "version": "3.10.12"
  }
 },
 "nbformat": 4,
 "nbformat_minor": 2
}
